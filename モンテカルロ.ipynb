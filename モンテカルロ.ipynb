{
 "cells": [
  {
   "cell_type": "code",
   "execution_count": 26,
   "metadata": {},
   "outputs": [],
   "source": [
    "import numpy as np\n",
    "import pandas as pd\n",
    "import matplotlib.pyplot as plt\n",
    "from IPython.html.widgets import interact"
   ]
  },
  {
   "cell_type": "code",
   "execution_count": 27,
   "metadata": {},
   "outputs": [],
   "source": [
    "plt.style.use('ggplot')\n",
    "np.random.seed(123)\n",
    "#コンピュータで生成する乱数というのは完全にランダムなわけではなく、一定の計算に沿って生成されるものです。\n",
    "#計算によって生成される乱数を「疑似乱数」と呼びます。\n",
    "#疑似乱数は、乱数を発生させるための種になるものを使って計算されます。これをランダムシード（乱数種）と言います。\n",
    "#乱数を発生させる前にnp.random.seed()と書いて、括弧内にランダムシードの追番を入力してやれば再現性を確保できます。（種を固定するという）\n",
    "#何度乱数を発生させても、毎回同じ乱数が返ってきます。"
   ]
  },
  {
   "cell_type": "code",
   "execution_count": 28,
   "metadata": {},
   "outputs": [
    {
     "name": "stdout",
     "output_type": "stream",
     "text": [
      "0.782\n"
     ]
    }
   ],
   "source": [
    "NMC = 2000\n",
    "#Number Monte Carlo 打つ座標の数\n",
    "xmc = np.random.rand(NMC)\n",
    "ymc = np.random.rand(NMC)\n",
    "r = (xmc**2 + ymc**2)**0.5\n",
    "#rが1以下つまり範囲に入ったならば、1、範囲からはずれたならば0を返してくれるnp.where\n",
    "accept = np.where(r<=1, 1, 0)\n",
    "#原点からの距離rが1以下ならそれは単位円の内側\n",
    "accept_ratio = np.sum(accept) / NMC\n",
    "print(accept_ratio)"
   ]
  },
  {
   "cell_type": "code",
   "execution_count": 29,
   "metadata": {},
   "outputs": [
    {
     "data": {
      "application/vnd.jupyter.widget-view+json": {
       "model_id": "47e893fdc990433499f33b72ddeb8dd3",
       "version_major": 2,
       "version_minor": 0
      },
      "text/plain": [
       "interactive(children=(IntSlider(value=0, description='mcs', max=2000), Output()), _dom_classes=('widget-intera…"
      ]
     },
     "metadata": {},
     "output_type": "display_data"
    }
   ],
   "source": [
    "NMC = 2000\n",
    "xmc = np.random.rand(NMC)\n",
    "ymc = np.random.rand(NMC)\n",
    "r = (xmc**2 + ymc**2)**0.5\n",
    "@interact(mcs=(0,NMC,1))\n",
    "def animation(mcs=0):\n",
    "    plt.figure(figsize=(6,6))\n",
    "    plt.xlim([0,1])\n",
    "    plt.ylim([0,1])\n",
    "    x = np.arange(0,1,0.001)\n",
    "    y = (1-x**2)**0.5\n",
    "    y2 = np.ones(x.shape[0])\n",
    "    plt.plot(x,y)\n",
    "    plt.fill_between(x,y,alpha=0.3)\n",
    "    plt.fill_between(x,y,alpha=0.3)\n",
    "    r = (xmc[:mcs]**2 + ymc[:mcs]**2)**0.5\n",
    "    accept = np.where(r<=1, 1, 0)\n",
    "    accept_ratio = np.sum(accept) / mcs\n",
    "    plt.scatter(xmc[:mcs], ymc[:mcs], color='black', marker='.')\n",
    "    plt.show()\n",
    "    print('Monte Carlo: ',accept_ratio)\n",
    "    print('Analytical Solution:', np.pi / 4)"
   ]
  },
  {
   "cell_type": "code",
   "execution_count": 30,
   "metadata": {},
   "outputs": [],
   "source": [
    "pi_mcs = []\n",
    "for mcs in range(1,NMC):\n",
    "    r = (xmc[:mcs]**2 + ymc[:mcs]**2)**0.5\n",
    "    accept = np.where(r<=1, 1, 0)\n",
    "    accept_raito = np.sum(accept) / mcs\n",
    "    pi_mcs.append(accept_ratio)"
   ]
  },
  {
   "cell_type": "code",
   "execution_count": 31,
   "metadata": {},
   "outputs": [],
   "source": [
    "pi_x = np.arange(len(pi_mcs)) + 1"
   ]
  },
  {
   "cell_type": "code",
   "execution_count": 32,
   "metadata": {},
   "outputs": [
    {
     "data": {
      "text/plain": [
       "Text(0, 0.5, 'accept ratio')"
      ]
     },
     "execution_count": 32,
     "metadata": {},
     "output_type": "execute_result"
    },
    {
     "data": {
      "image/png": "[encoded data removed]",
      "text/plain": [
       "<Figure size 432x288 with 1 Axes>"
      ]
     },
     "metadata": {},
     "output_type": "display_data"
    }
   ],
   "source": [
    "plt.plot(pi_x, pi_mcs)\n",
    "plt.hlines(0.785, pi_x[0], pi_x[-1], linestyles='dashed')\n",
    "plt.xlabel('MCS')\n",
    "plt.ylabel('accept ratio')"
   ]
  },
  {
   "cell_type": "code",
   "execution_count": 5,
   "metadata": {},
   "outputs": [
    {
     "name": "stdout",
     "output_type": "stream",
     "text": [
      "start\n",
      "start\n",
      "end\n",
      "end\n",
      "30\n",
      "start\n",
      "end\n",
      "30\n"
     ]
    }
   ],
   "source": [
    "#デコレータとは？　関数の中に関数のような、関数をデコレートしてる状況をべつの形で表現したもの\n",
    "#酒井さんの講座から抜粋\n",
    "def print_info(func):\n",
    "    def wrapper(*args, **kwargs):\n",
    "        print('start')\n",
    "        result = func(*args, **kwargs)\n",
    "        print('end')\n",
    "        return result\n",
    "    return wrapper\n",
    "\n",
    "#デコレーターを使わなくても同様に\n",
    "f = print_info(add_num)\n",
    "r3 = f(10, 20)\n",
    "print(r3)\n",
    "\n",
    "@print_info\n",
    "def add_num(a, b):\n",
    "    return a + b\n",
    "\n",
    "r = add_num(10, 20)\n",
    "print(r)"
   ]
  },
  {
   "cell_type": "code",
   "execution_count": 4,
   "metadata": {},
   "outputs": [
    {
     "name": "stdout",
     "output_type": "stream",
     "text": [
      "start\n",
      "start\n",
      "end\n",
      "end\n",
      "30\n"
     ]
    }
   ],
   "source": [
    "#デコレーターを使わなくても同様に\n",
    "f = print_info(add_num)\n",
    "r3 = f(10, 20)\n",
    "print(r3)"
   ]
  },
  {
   "cell_type": "code",
   "execution_count": null,
   "metadata": {},
   "outputs": [],
   "source": []
  }
 ],
 "metadata": {
  "kernelspec": {
   "display_name": "Python 3",
   "language": "python",
   "name": "python3"
  },
  "language_info": {
   "codemirror_mode": {
    "name": "ipython",
    "version": 3
   },
   "file_extension": ".py",
   "mimetype": "text/x-python",
   "name": "python",
   "nbconvert_exporter": "python",
   "pygments_lexer": "ipython3",
   "version": "3.7.6"
  }
 },
 "nbformat": 4,
 "nbformat_minor": 4
}
